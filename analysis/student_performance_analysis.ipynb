{
 "cells": [
  {
   "cell_type": "markdown",
   "metadata": {},
   "source": [
    "# DSCI310_Group8 Project Milestone1"
   ]
  },
  {
   "cell_type": "markdown",
   "metadata": {},
   "source": [
    "\n",
    "## Title: User Knowledge Modeling Data Set: Using Regression to Predict Student Exam Performance by Study Time \n"
   ]
  },
  {
   "cell_type": "markdown",
   "metadata": {},
   "source": [
    "##### Authors: Anam Hira(67844266),Isabela Lucas Bruxellas(33569286),Tony Liang(39356993),Xue Wang(50938547)\n"
   ]
  },
  {
   "cell_type": "markdown",
   "metadata": {},
   "source": [
    "##### Reused 2021-2022 Winter Term1 DSCI100 Project and Authorized by Renee Li and Selina Wang"
   ]
  },
  {
   "cell_type": "markdown",
   "metadata": {},
   "source": [
    "## Summary\n",
    "In this project, we will explore and predict students'exam performance about Electrical DC Machines based on their study time by using linear regression (LN) and the K-nearest neighbors (K-NN) algorithm. This result could help students gain insight into the necessary study time for specific scores as well as help instructors better understand the performance of students.\n",
    "\n",
    "As a result of our analysis, we have found the Root mean square prediction error(RMSPE) for our LN model to be 0.281, while the RMSPE of the K-NN model is 0.257. Both types of regression have a prediction error percentage of about 40% (therefore our accuracy is about 60%), although the K-NN model is slightly better than LN model here.\n",
    "\n",
    "This can be attributed to the fact that exam performance could be affected by other external factors such as health condition, student IQ, stress levels, learning ability and our data set may not be big enough to directly draw a relationship between just study time and exam performance.\n",
    "\n",
    "The dataset we used was the User Knowledge Modeling Dataset provided by UCL Machine Learning Repository."
   ]
  },
  {
   "cell_type": "markdown",
   "metadata": {},
   "source": [
    "## 1. Introduction:"
   ]
  },
  {
   "cell_type": "markdown",
   "metadata": {},
   "source": [
    "In this study, we will be exploring and predicting students’ exam performance about Electrical DC Machines based on their study time. The question we will try to answer with our project is: What will a student’s exam performance be based on their study time? In our project, we will be using the User Knowledge Modeling Data Set, which has a total of 5 variables observed about students, in addition to the classified knowledge level of user (UNS): \n",
    "\n",
    "* STG: the degree of study time for goal object materials\n",
    "* SCG: the degree of repetition number of user for goal object materials \n",
    "* STR: the degree of study time of user for related objects with goal object\n",
    "* LPR: the exam performance of user for related objects with goal object\n",
    "* PEG: the exam performance of user for goal objects\n",
    "\n",
    "These variables were drawn from students’ learning-related activities on the web. The data was also already tidy and pre-divided into training and testing subsets.\n"
   ]
  },
  {
   "cell_type": "markdown",
   "metadata": {},
   "source": [
    "Our project question is highly related to student life, especially with finals season coming quickly. Hence, we were inspired to choose study time as one of our predictors so we can analyze the relationship between our study time and exam performance in order to design an effective study plan."
   ]
  },
  {
   "cell_type": "markdown",
   "metadata": {},
   "source": [
    "We believe there to be a positive relationship between PEG and STG, since it is natural to assume that increasing the degree of study time would result in higher/better exam performance. As STG increases, so should PEG. The accuracy of our model we are expecting to obtain is 80% because exam performance should be strongly related to study time based on common knowledge.\n",
    "\n",
    "Thus, we are going to pick STG as the predictor (explanatory variable) and PEG as our response variable. We will be conducting regression since our response variable is numerical. Since we are not sure which regression method (linear or K-NN) will be better at fitting our data set, we will conduct both and compare/contrast their prediction errors to determine the better model."
   ]
  },
  {
   "cell_type": "markdown",
   "metadata": {},
   "source": [
    "#### 1.1 Loading the libraries that we need for the data analysis\n",
    "The libraries we need for reading and analyzing the dataset:"
   ]
  },
  {
   "cell_type": "code",
   "execution_count": 79,
   "metadata": {
    "tags": []
   },
   "outputs": [],
   "source": [
    "library(tidyverse)\n",
    "library(digest)\n",
    "library(repr)\n",
    "library(tidymodels)\n",
    "library(readxl)\n",
    "library(cowplot)\n",
    "library(GGally)\n",
    "library(broom)\n",
    "library(rlang)\n",
    "library(testthat)\n",
    "options(repr.matrix.max.rows = 6)\n",
    "source(\"../src/r/load_data.r\")\n",
    "source(\"../src/r/wrangle_data.r\")\n",
    "source(\"../src/r/summary_fun.r\")\n",
    "source(\"../src/r/num_na.r\")\n"
   ]
  },
  {
   "cell_type": "markdown",
   "metadata": {},
   "source": [
    "#### 1.2 Setting the Seed"
   ]
  },
  {
   "cell_type": "markdown",
   "metadata": {},
   "source": [
    "In order for our work to be reproducible and make a constant in the randomness, we will set the seed before we do any form of analysis."
   ]
  },
  {
   "cell_type": "code",
   "execution_count": 80,
   "metadata": {},
   "outputs": [],
   "source": [
    "set.seed(123)"
   ]
  },
  {
   "cell_type": "markdown",
   "metadata": {},
   "source": [
    "#### 1.3 Reading the Data\n",
    "\n",
    "Reading the dataset from the online data folder.\n",
    "\n",
    "In the original dataset, sheet 2 was already labelled as training data, and sheet 3 was labelled as testing data.\n",
    "\n",
    "We can see from table 1.3.1 and table 1.3.2 (below) that our data has 403 total observations. Our training dataset has 258 observations and the testing dataset has 145 observations.\n",
    "\n",
    "From this we've calculated that the proportion of the training data is around 64%, while the testing data is around 36%.\n",
    "\n",
    "After examining the proportions of data in each sheet, we came to the conclusion that they were in fact labelled correctly due to the higher proportion of data in the sheet 2 and a lower proportion of data in sheet 3. Therefore, we didn't need to split the data ourselves.\n",
    "\n",
    "data_1 is the training data selected from sheet 2."
   ]
  },
  {
   "cell_type": "code",
   "execution_count": 81,
   "metadata": {},
   "outputs": [
    {
     "name": "stderr",
     "output_type": "stream",
     "text": [
      "New names:\n",
      "* `` -> ...7\n",
      "* `` -> ...8\n",
      "\n"
     ]
    },
    {
     "data": {
      "text/html": [
       "<table class=\"dataframe\">\n",
       "<caption>A tibble: 258 × 6</caption>\n",
       "<thead>\n",
       "\t<tr><th scope=col>STG</th><th scope=col>SCG</th><th scope=col>STR</th><th scope=col>LPR</th><th scope=col>PEG</th><th scope=col>UNS</th></tr>\n",
       "\t<tr><th scope=col>&lt;dbl&gt;</th><th scope=col>&lt;dbl&gt;</th><th scope=col>&lt;dbl&gt;</th><th scope=col>&lt;dbl&gt;</th><th scope=col>&lt;dbl&gt;</th><th scope=col>&lt;chr&gt;</th></tr>\n",
       "</thead>\n",
       "<tbody>\n",
       "\t<tr><td>0.00</td><td>0.00</td><td>0.00</td><td>0.00</td><td>0.00</td><td>very_low</td></tr>\n",
       "\t<tr><td>0.08</td><td>0.08</td><td>0.10</td><td>0.24</td><td>0.90</td><td>High    </td></tr>\n",
       "\t<tr><td>0.06</td><td>0.06</td><td>0.05</td><td>0.25</td><td>0.33</td><td>Low     </td></tr>\n",
       "\t<tr><td>...</td><td>...</td><td>...</td><td>...</td><td>...</td><td>...</td></tr>\n",
       "\t<tr><td>0.54</td><td>0.82</td><td>0.71</td><td>0.29</td><td>0.77</td><td>High  </td></tr>\n",
       "\t<tr><td>0.50</td><td>0.75</td><td>0.81</td><td>0.61</td><td>0.26</td><td>Middle</td></tr>\n",
       "\t<tr><td>0.66</td><td>0.90</td><td>0.76</td><td>0.87</td><td>0.74</td><td>High  </td></tr>\n",
       "</tbody>\n",
       "</table>\n"
      ],
      "text/latex": [
       "A tibble: 258 × 6\n",
       "\\begin{tabular}{llllll}\n",
       " STG & SCG & STR & LPR & PEG & UNS\\\\\n",
       " <dbl> & <dbl> & <dbl> & <dbl> & <dbl> & <chr>\\\\\n",
       "\\hline\n",
       "\t 0.00 & 0.00 & 0.00 & 0.00 & 0.00 & very\\_low\\\\\n",
       "\t 0.08 & 0.08 & 0.10 & 0.24 & 0.90 & High    \\\\\n",
       "\t 0.06 & 0.06 & 0.05 & 0.25 & 0.33 & Low     \\\\\n",
       "\t ... & ... & ... & ... & ... & ...\\\\\n",
       "\t 0.54 & 0.82 & 0.71 & 0.29 & 0.77 & High  \\\\\n",
       "\t 0.50 & 0.75 & 0.81 & 0.61 & 0.26 & Middle\\\\\n",
       "\t 0.66 & 0.90 & 0.76 & 0.87 & 0.74 & High  \\\\\n",
       "\\end{tabular}\n"
      ],
      "text/markdown": [
       "\n",
       "A tibble: 258 × 6\n",
       "\n",
       "| STG &lt;dbl&gt; | SCG &lt;dbl&gt; | STR &lt;dbl&gt; | LPR &lt;dbl&gt; | PEG &lt;dbl&gt; | UNS &lt;chr&gt; |\n",
       "|---|---|---|---|---|---|\n",
       "| 0.00 | 0.00 | 0.00 | 0.00 | 0.00 | very_low |\n",
       "| 0.08 | 0.08 | 0.10 | 0.24 | 0.90 | High     |\n",
       "| 0.06 | 0.06 | 0.05 | 0.25 | 0.33 | Low      |\n",
       "| ... | ... | ... | ... | ... | ... |\n",
       "| 0.54 | 0.82 | 0.71 | 0.29 | 0.77 | High   |\n",
       "| 0.50 | 0.75 | 0.81 | 0.61 | 0.26 | Middle |\n",
       "| 0.66 | 0.90 | 0.76 | 0.87 | 0.74 | High   |\n",
       "\n"
      ],
      "text/plain": [
       "    STG  SCG  STR  LPR  PEG  UNS     \n",
       "1   0.00 0.00 0.00 0.00 0.00 very_low\n",
       "2   0.08 0.08 0.10 0.24 0.90 High    \n",
       "3   0.06 0.06 0.05 0.25 0.33 Low     \n",
       "... ...  ...  ...  ...  ...  ...     \n",
       "256 0.54 0.82 0.71 0.29 0.77 High    \n",
       "257 0.50 0.75 0.81 0.61 0.26 Middle  \n",
       "258 0.66 0.90 0.76 0.87 0.74 High    "
      ]
     },
     "metadata": {},
     "output_type": "display_data"
    }
   ],
   "source": [
    "dest <- \"../data/raw/student_performance.xls\"\n",
    "data_1 <- load_data(dest, 2, STG, SCG, STR, LPR, PEG, UNS)\n",
    "data_1\n"
   ]
  },
  {
   "cell_type": "markdown",
   "metadata": {},
   "source": [
    "Table 1.3.1 The training data set of the user knowledge."
   ]
  },
  {
   "cell_type": "markdown",
   "metadata": {},
   "source": [
    "data_2 is the testing data selected from sheet 3."
   ]
  },
  {
   "cell_type": "code",
   "execution_count": 82,
   "metadata": {},
   "outputs": [
    {
     "name": "stderr",
     "output_type": "stream",
     "text": [
      "New names:\n",
      "* `` -> ...7\n",
      "* `` -> ...8\n",
      "\n"
     ]
    },
    {
     "data": {
      "text/html": [
       "<table class=\"dataframe\">\n",
       "<caption>A tibble: 145 × 6</caption>\n",
       "<thead>\n",
       "\t<tr><th scope=col>STG</th><th scope=col>SCG</th><th scope=col>STR</th><th scope=col>LPR</th><th scope=col>PEG</th><th scope=col>UNS</th></tr>\n",
       "\t<tr><th scope=col>&lt;dbl&gt;</th><th scope=col>&lt;dbl&gt;</th><th scope=col>&lt;dbl&gt;</th><th scope=col>&lt;dbl&gt;</th><th scope=col>&lt;dbl&gt;</th><th scope=col>&lt;chr&gt;</th></tr>\n",
       "</thead>\n",
       "<tbody>\n",
       "\t<tr><td>0.00</td><td>0.10</td><td>0.50</td><td>0.26</td><td>0.05</td><td>Very Low</td></tr>\n",
       "\t<tr><td>0.05</td><td>0.05</td><td>0.55</td><td>0.60</td><td>0.14</td><td>Low     </td></tr>\n",
       "\t<tr><td>0.08</td><td>0.18</td><td>0.63</td><td>0.60</td><td>0.85</td><td>High    </td></tr>\n",
       "\t<tr><td>...</td><td>...</td><td>...</td><td>...</td><td>...</td><td>...</td></tr>\n",
       "\t<tr><td>0.56</td><td>0.60</td><td>0.77</td><td>0.13</td><td>0.32</td><td>Low   </td></tr>\n",
       "\t<tr><td>0.66</td><td>0.68</td><td>0.81</td><td>0.57</td><td>0.57</td><td>Middle</td></tr>\n",
       "\t<tr><td>0.68</td><td>0.64</td><td>0.79</td><td>0.97</td><td>0.24</td><td>Middle</td></tr>\n",
       "</tbody>\n",
       "</table>\n"
      ],
      "text/latex": [
       "A tibble: 145 × 6\n",
       "\\begin{tabular}{llllll}\n",
       " STG & SCG & STR & LPR & PEG & UNS\\\\\n",
       " <dbl> & <dbl> & <dbl> & <dbl> & <dbl> & <chr>\\\\\n",
       "\\hline\n",
       "\t 0.00 & 0.10 & 0.50 & 0.26 & 0.05 & Very Low\\\\\n",
       "\t 0.05 & 0.05 & 0.55 & 0.60 & 0.14 & Low     \\\\\n",
       "\t 0.08 & 0.18 & 0.63 & 0.60 & 0.85 & High    \\\\\n",
       "\t ... & ... & ... & ... & ... & ...\\\\\n",
       "\t 0.56 & 0.60 & 0.77 & 0.13 & 0.32 & Low   \\\\\n",
       "\t 0.66 & 0.68 & 0.81 & 0.57 & 0.57 & Middle\\\\\n",
       "\t 0.68 & 0.64 & 0.79 & 0.97 & 0.24 & Middle\\\\\n",
       "\\end{tabular}\n"
      ],
      "text/markdown": [
       "\n",
       "A tibble: 145 × 6\n",
       "\n",
       "| STG &lt;dbl&gt; | SCG &lt;dbl&gt; | STR &lt;dbl&gt; | LPR &lt;dbl&gt; | PEG &lt;dbl&gt; | UNS &lt;chr&gt; |\n",
       "|---|---|---|---|---|---|\n",
       "| 0.00 | 0.10 | 0.50 | 0.26 | 0.05 | Very Low |\n",
       "| 0.05 | 0.05 | 0.55 | 0.60 | 0.14 | Low      |\n",
       "| 0.08 | 0.18 | 0.63 | 0.60 | 0.85 | High     |\n",
       "| ... | ... | ... | ... | ... | ... |\n",
       "| 0.56 | 0.60 | 0.77 | 0.13 | 0.32 | Low    |\n",
       "| 0.66 | 0.68 | 0.81 | 0.57 | 0.57 | Middle |\n",
       "| 0.68 | 0.64 | 0.79 | 0.97 | 0.24 | Middle |\n",
       "\n"
      ],
      "text/plain": [
       "    STG  SCG  STR  LPR  PEG  UNS     \n",
       "1   0.00 0.10 0.50 0.26 0.05 Very Low\n",
       "2   0.05 0.05 0.55 0.60 0.14 Low     \n",
       "3   0.08 0.18 0.63 0.60 0.85 High    \n",
       "... ...  ...  ...  ...  ...  ...     \n",
       "143 0.56 0.60 0.77 0.13 0.32 Low     \n",
       "144 0.66 0.68 0.81 0.57 0.57 Middle  \n",
       "145 0.68 0.64 0.79 0.97 0.24 Middle  "
      ]
     },
     "metadata": {},
     "output_type": "display_data"
    }
   ],
   "source": [
    "data_2 <- load_data(dest, 3, STG, SCG, STR, LPR, PEG, UNS)\n",
    "data_2 "
   ]
  },
  {
   "cell_type": "markdown",
   "metadata": {},
   "source": [
    "Table 1.3.2 The testing data set of the user knowledge."
   ]
  },
  {
   "cell_type": "markdown",
   "metadata": {},
   "source": [
    "* STG: the degree of study time for goal object materials\n",
    "* SCG: the degree of repetition number of user for goal object materials \n",
    "* STR: the degree of study time of user for related objects with goal object\n",
    "* LPR: the exam performance of user for related objects with goal object\n",
    "* PEG: the exam performance of user for goal objects\n",
    "* UNS: the knowledge level of user\n",
    "\n",
    "We can see from the above tables that the data is already tidy, since each row is a single observation, each column is a single variable, and each value is a single cell. We do not need to do any further tidying. "
   ]
  },
  {
   "cell_type": "markdown",
   "metadata": {},
   "source": [
    "#### 1.4 Determing the Predictor(s) and the Response Variable(s).\n",
    "Comparing distributions of each predictor variable"
   ]
  },
  {
   "cell_type": "code",
   "execution_count": 83,
   "metadata": {},
   "outputs": [
    {
     "name": "stderr",
     "output_type": "stream",
     "text": [
      "`stat_bin()` using `bins = 30`. Pick better value with `binwidth`.\n",
      "\n",
      "`stat_bin()` using `bins = 30`. Pick better value with `binwidth`.\n",
      "\n",
      "`stat_bin()` using `bins = 30`. Pick better value with `binwidth`.\n",
      "\n",
      "`stat_bin()` using `bins = 30`. Pick better value with `binwidth`.\n",
      "\n",
      "`stat_bin()` using `bins = 30`. Pick better value with `binwidth`.\n",
      "\n"
     ]
    },
    {
     "data": {
      "image/png": "[encoded data removed]",
      "text/plain": [
       "plot without title"
      ]
     },
     "metadata": {
      "image/png": {
       "height": 420,
       "width": 420
      }
     },
     "output_type": "display_data"
    }
   ],
   "source": [
    "predictors <- ggpairs(data_1) + theme_bw()\n",
    "predictors"
   ]
  },
  {
   "cell_type": "markdown",
   "metadata": {},
   "source": [
    "       Figure1.4.1 ggpairs plot among the six variables"
   ]
  },
  {
   "cell_type": "markdown",
   "metadata": {},
   "source": [
    "To choose the variables we wish to use as predictors, we compared the four variables to PEG (exam performance) using a ggpairs visualization."
   ]
  },
  {
   "cell_type": "markdown",
   "metadata": {},
   "source": [
    "It can be observed from the ggpairs visualization that there may be a relationship between STG and PEG."
   ]
  },
  {
   "cell_type": "markdown",
   "metadata": {},
   "source": [
    "In regards to why we are only choosing one predictor, it would be extremely difficult (within the scope of this course) to plot the final results, since all of our variables/columns (except UNS) are numerical, and PEG (which is what we are trying to predict) is also numerical. \n"
   ]
  },
  {
   "cell_type": "markdown",
   "metadata": {},
   "source": [
    "Therefore, the one predictor we have chosen to use in our regression is STG. "
   ]
  },
  {
   "cell_type": "markdown",
   "metadata": {},
   "source": [
    "#### 1.5 Cleaning and Wrangling the Data\n",
    "Wrangling the data and removing irrelevant columns. \n",
    "\n",
    "Keeping just STG and PEG from the training set, since they are the only variables that we are interested in and will be using."
   ]
  },
  {
   "cell_type": "code",
   "execution_count": 84,
   "metadata": {},
   "outputs": [
    {
     "data": {
      "text/html": [
       "<table class=\"dataframe\">\n",
       "<caption>A tibble: 258 × 2</caption>\n",
       "<thead>\n",
       "\t<tr><th scope=col>STG</th><th scope=col>PEG</th></tr>\n",
       "\t<tr><th scope=col>&lt;dbl&gt;</th><th scope=col>&lt;dbl&gt;</th></tr>\n",
       "</thead>\n",
       "<tbody>\n",
       "\t<tr><td>0.00</td><td>0.00</td></tr>\n",
       "\t<tr><td>0.08</td><td>0.90</td></tr>\n",
       "\t<tr><td>0.06</td><td>0.33</td></tr>\n",
       "\t<tr><td>...</td><td>...</td></tr>\n",
       "\t<tr><td>0.54</td><td>0.77</td></tr>\n",
       "\t<tr><td>0.50</td><td>0.26</td></tr>\n",
       "\t<tr><td>0.66</td><td>0.74</td></tr>\n",
       "</tbody>\n",
       "</table>\n"
      ],
      "text/latex": [
       "A tibble: 258 × 2\n",
       "\\begin{tabular}{ll}\n",
       " STG & PEG\\\\\n",
       " <dbl> & <dbl>\\\\\n",
       "\\hline\n",
       "\t 0.00 & 0.00\\\\\n",
       "\t 0.08 & 0.90\\\\\n",
       "\t 0.06 & 0.33\\\\\n",
       "\t ... & ...\\\\\n",
       "\t 0.54 & 0.77\\\\\n",
       "\t 0.50 & 0.26\\\\\n",
       "\t 0.66 & 0.74\\\\\n",
       "\\end{tabular}\n"
      ],
      "text/markdown": [
       "\n",
       "A tibble: 258 × 2\n",
       "\n",
       "| STG &lt;dbl&gt; | PEG &lt;dbl&gt; |\n",
       "|---|---|\n",
       "| 0.00 | 0.00 |\n",
       "| 0.08 | 0.90 |\n",
       "| 0.06 | 0.33 |\n",
       "| ... | ... |\n",
       "| 0.54 | 0.77 |\n",
       "| 0.50 | 0.26 |\n",
       "| 0.66 | 0.74 |\n",
       "\n"
      ],
      "text/plain": [
       "    STG  PEG \n",
       "1   0.00 0.00\n",
       "2   0.08 0.90\n",
       "3   0.06 0.33\n",
       "... ...  ... \n",
       "256 0.54 0.77\n",
       "257 0.50 0.26\n",
       "258 0.66 0.74"
      ]
     },
     "metadata": {},
     "output_type": "display_data"
    }
   ],
   "source": [
    "#user_training <- data_1 %>%\n",
    "#select(STG,PEG) \n",
    "user_training <- wrangle_data(data_1)\n",
    "user_training"
   ]
  },
  {
   "cell_type": "markdown",
   "metadata": {},
   "source": [
    "Table 1.5.1 The training dataset of the STG and PEG"
   ]
  },
  {
   "cell_type": "markdown",
   "metadata": {},
   "source": [
    "Keeping just STG and PEG in the testing set."
   ]
  },
  {
   "cell_type": "code",
   "execution_count": 85,
   "metadata": {},
   "outputs": [
    {
     "data": {
      "text/html": [
       "<table class=\"dataframe\">\n",
       "<caption>A tibble: 145 × 2</caption>\n",
       "<thead>\n",
       "\t<tr><th scope=col>STG</th><th scope=col>PEG</th></tr>\n",
       "\t<tr><th scope=col>&lt;dbl&gt;</th><th scope=col>&lt;dbl&gt;</th></tr>\n",
       "</thead>\n",
       "<tbody>\n",
       "\t<tr><td>0.00</td><td>0.05</td></tr>\n",
       "\t<tr><td>0.05</td><td>0.14</td></tr>\n",
       "\t<tr><td>0.08</td><td>0.85</td></tr>\n",
       "\t<tr><td>...</td><td>...</td></tr>\n",
       "\t<tr><td>0.56</td><td>0.32</td></tr>\n",
       "\t<tr><td>0.66</td><td>0.57</td></tr>\n",
       "\t<tr><td>0.68</td><td>0.24</td></tr>\n",
       "</tbody>\n",
       "</table>\n"
      ],
      "text/latex": [
       "A tibble: 145 × 2\n",
       "\\begin{tabular}{ll}\n",
       " STG & PEG\\\\\n",
       " <dbl> & <dbl>\\\\\n",
       "\\hline\n",
       "\t 0.00 & 0.05\\\\\n",
       "\t 0.05 & 0.14\\\\\n",
       "\t 0.08 & 0.85\\\\\n",
       "\t ... & ...\\\\\n",
       "\t 0.56 & 0.32\\\\\n",
       "\t 0.66 & 0.57\\\\\n",
       "\t 0.68 & 0.24\\\\\n",
       "\\end{tabular}\n"
      ],
      "text/markdown": [
       "\n",
       "A tibble: 145 × 2\n",
       "\n",
       "| STG &lt;dbl&gt; | PEG &lt;dbl&gt; |\n",
       "|---|---|\n",
       "| 0.00 | 0.05 |\n",
       "| 0.05 | 0.14 |\n",
       "| 0.08 | 0.85 |\n",
       "| ... | ... |\n",
       "| 0.56 | 0.32 |\n",
       "| 0.66 | 0.57 |\n",
       "| 0.68 | 0.24 |\n",
       "\n"
      ],
      "text/plain": [
       "    STG  PEG \n",
       "1   0.00 0.05\n",
       "2   0.05 0.14\n",
       "3   0.08 0.85\n",
       "... ...  ... \n",
       "143 0.56 0.32\n",
       "144 0.66 0.57\n",
       "145 0.68 0.24"
      ]
     },
     "metadata": {},
     "output_type": "display_data"
    }
   ],
   "source": [
    "#user_testing <-data_2 %>%\n",
    "#select(STG,PEG)\n",
    "user_testing <- wrangle_data(data_2)\n",
    "user_testing"
   ]
  },
  {
   "cell_type": "markdown",
   "metadata": {},
   "source": [
    "Table 1.5.2 The testing dataset of the STG and PEG"
   ]
  },
  {
   "cell_type": "markdown",
   "metadata": {},
   "source": [
    "#### 1.7 Summarizing the Data\n",
    "The following code is used to find the means of the predictor and explanatory variables (STG and PEG) we plan to use in our analysis."
   ]
  },
  {
   "cell_type": "code",
   "execution_count": 86,
   "metadata": {},
   "outputs": [
    {
     "data": {
      "text/html": [
       "<table class=\"dataframe\">\n",
       "<caption>A tibble: 1 × 2</caption>\n",
       "<thead>\n",
       "\t<tr><th scope=col>STG</th><th scope=col>PEG</th></tr>\n",
       "\t<tr><th scope=col>&lt;dbl&gt;</th><th scope=col>&lt;dbl&gt;</th></tr>\n",
       "</thead>\n",
       "<tbody>\n",
       "\t<tr><td>0.3711473</td><td>0.4585388</td></tr>\n",
       "</tbody>\n",
       "</table>\n"
      ],
      "text/latex": [
       "A tibble: 1 × 2\n",
       "\\begin{tabular}{ll}\n",
       " STG & PEG\\\\\n",
       " <dbl> & <dbl>\\\\\n",
       "\\hline\n",
       "\t 0.3711473 & 0.4585388\\\\\n",
       "\\end{tabular}\n"
      ],
      "text/markdown": [
       "\n",
       "A tibble: 1 × 2\n",
       "\n",
       "| STG &lt;dbl&gt; | PEG &lt;dbl&gt; |\n",
       "|---|---|\n",
       "| 0.3711473 | 0.4585388 |\n",
       "\n"
      ],
      "text/plain": [
       "  STG       PEG      \n",
       "1 0.3711473 0.4585388"
      ]
     },
     "metadata": {},
     "output_type": "display_data"
    }
   ],
   "source": [
    "#user_means <- user_training %>%\n",
    "#map_df(mean, na.rm =TRUE)\n",
    "user_means <- summary_fun(user_training,mean)\n",
    "user_means"
   ]
  },
  {
   "cell_type": "markdown",
   "metadata": {},
   "source": [
    "Table 1.7.1 The means of STG and PEG"
   ]
  },
  {
   "cell_type": "markdown",
   "metadata": {},
   "source": [
    "The following code is used to find the maximums of the predictor and explanatory variables (STG and PEG) we plan to use in our analysis."
   ]
  },
  {
   "cell_type": "code",
   "execution_count": 87,
   "metadata": {},
   "outputs": [
    {
     "data": {
      "text/html": [
       "<table class=\"dataframe\">\n",
       "<caption>A tibble: 1 × 2</caption>\n",
       "<thead>\n",
       "\t<tr><th scope=col>STG</th><th scope=col>PEG</th></tr>\n",
       "\t<tr><th scope=col>&lt;dbl&gt;</th><th scope=col>&lt;dbl&gt;</th></tr>\n",
       "</thead>\n",
       "<tbody>\n",
       "\t<tr><td>0.99</td><td>0.93</td></tr>\n",
       "</tbody>\n",
       "</table>\n"
      ],
      "text/latex": [
       "A tibble: 1 × 2\n",
       "\\begin{tabular}{ll}\n",
       " STG & PEG\\\\\n",
       " <dbl> & <dbl>\\\\\n",
       "\\hline\n",
       "\t 0.99 & 0.93\\\\\n",
       "\\end{tabular}\n"
      ],
      "text/markdown": [
       "\n",
       "A tibble: 1 × 2\n",
       "\n",
       "| STG &lt;dbl&gt; | PEG &lt;dbl&gt; |\n",
       "|---|---|\n",
       "| 0.99 | 0.93 |\n",
       "\n"
      ],
      "text/plain": [
       "  STG  PEG \n",
       "1 0.99 0.93"
      ]
     },
     "metadata": {},
     "output_type": "display_data"
    }
   ],
   "source": [
    "#maximum <- user_training %>%\n",
    "#map_df(max,na.rm =TRUE)\n",
    "\n",
    "maximum <- summary_fun(user_training, max)\n",
    "maximum"
   ]
  },
  {
   "cell_type": "markdown",
   "metadata": {},
   "source": [
    "Table 1.7.2 The maximums of STG and PEG"
   ]
  },
  {
   "cell_type": "markdown",
   "metadata": {},
   "source": [
    "The following code is used to find the minimums of the predictor and explanatory variables (STG and PEG) we plan to use in analysis."
   ]
  },
  {
   "cell_type": "code",
   "execution_count": 88,
   "metadata": {},
   "outputs": [
    {
     "data": {
      "text/html": [
       "<table class=\"dataframe\">\n",
       "<caption>A tibble: 1 × 2</caption>\n",
       "<thead>\n",
       "\t<tr><th scope=col>STG</th><th scope=col>PEG</th></tr>\n",
       "\t<tr><th scope=col>&lt;dbl&gt;</th><th scope=col>&lt;dbl&gt;</th></tr>\n",
       "</thead>\n",
       "<tbody>\n",
       "\t<tr><td>0</td><td>0</td></tr>\n",
       "</tbody>\n",
       "</table>\n"
      ],
      "text/latex": [
       "A tibble: 1 × 2\n",
       "\\begin{tabular}{ll}\n",
       " STG & PEG\\\\\n",
       " <dbl> & <dbl>\\\\\n",
       "\\hline\n",
       "\t 0 & 0\\\\\n",
       "\\end{tabular}\n"
      ],
      "text/markdown": [
       "\n",
       "A tibble: 1 × 2\n",
       "\n",
       "| STG &lt;dbl&gt; | PEG &lt;dbl&gt; |\n",
       "|---|---|\n",
       "| 0 | 0 |\n",
       "\n"
      ],
      "text/plain": [
       "  STG PEG\n",
       "1 0   0  "
      ]
     },
     "metadata": {},
     "output_type": "display_data"
    }
   ],
   "source": [
    "#minimum <- user_training %>%\n",
    "#map_df(min,na.rm =TRUE)\n",
    "\n",
    "minimum <- summary_fun(user_training, min)\n",
    "minimum"
   ]
  },
  {
   "cell_type": "markdown",
   "metadata": {},
   "source": [
    "Table 1.7.3 The minimums of STG and PEG"
   ]
  },
  {
   "cell_type": "markdown",
   "metadata": {},
   "source": [
    "From table 1.7.1 to 1.7.3, we can see that the means are 0.37 for STG and 0.46 for PEG, the maximums are 0.99 for STG and 0.93 for PEG, and minimums are 0 for STG and 0 for PEG. \n",
    "\n",
    "All of these three summaries show that the values of STG and PEG are close in value and have roughly the same scale. We will not need to scale or standardize the data for linear regression, but it is still good practice to scale the data for K-NN regression, since it is extremely sensitive to differing scales of the variables."
   ]
  },
  {
   "cell_type": "markdown",
   "metadata": {},
   "source": [
    "The following code is used to find the number of observations we have of the predictor and explanatory variables we plan to use in analysis."
   ]
  },
  {
   "cell_type": "code",
   "execution_count": 89,
   "metadata": {},
   "outputs": [
    {
     "data": {
      "text/html": [
       "<table class=\"dataframe\">\n",
       "<caption>A tibble: 1 × 1</caption>\n",
       "<thead>\n",
       "\t<tr><th scope=col>n</th></tr>\n",
       "\t<tr><th scope=col>&lt;int&gt;</th></tr>\n",
       "</thead>\n",
       "<tbody>\n",
       "\t<tr><td>258</td></tr>\n",
       "</tbody>\n",
       "</table>\n"
      ],
      "text/latex": [
       "A tibble: 1 × 1\n",
       "\\begin{tabular}{l}\n",
       " n\\\\\n",
       " <int>\\\\\n",
       "\\hline\n",
       "\t 258\\\\\n",
       "\\end{tabular}\n"
      ],
      "text/markdown": [
       "\n",
       "A tibble: 1 × 1\n",
       "\n",
       "| n &lt;int&gt; |\n",
       "|---|\n",
       "| 258 |\n",
       "\n"
      ],
      "text/plain": [
       "  n  \n",
       "1 258"
      ]
     },
     "metadata": {},
     "output_type": "display_data"
    }
   ],
   "source": [
    "observations <- user_training %>%\n",
    "summarize(n = n())\n",
    "observations"
   ]
  },
  {
   "cell_type": "markdown",
   "metadata": {},
   "source": [
    "Table 1.7.4 The number of observations in the predictor and explanatory variables"
   ]
  },
  {
   "cell_type": "markdown",
   "metadata": {},
   "source": [
    "The following code is used to find how many rows have missing data"
   ]
  },
  {
   "cell_type": "code",
   "execution_count": 94,
   "metadata": {
    "tags": []
   },
   "outputs": [
    {
     "data": {
      "text/html": [
       "0"
      ],
      "text/latex": [
       "0"
      ],
      "text/markdown": [
       "0"
      ],
      "text/plain": [
       "[1] 0"
      ]
     },
     "metadata": {},
     "output_type": "display_data"
    },
    {
     "data": {
      "text/html": [
       "0"
      ],
      "text/latex": [
       "0"
      ],
      "text/markdown": [
       "0"
      ],
      "text/plain": [
       "[1] 0"
      ]
     },
     "metadata": {},
     "output_type": "display_data"
    },
    {
     "data": {
      "text/html": [
       "0"
      ],
      "text/latex": [
       "0"
      ],
      "text/markdown": [
       "0"
      ],
      "text/plain": [
       "[1] 0"
      ]
     },
     "metadata": {},
     "output_type": "display_data"
    },
    {
     "data": {
      "text/html": [
       "0"
      ],
      "text/latex": [
       "0"
      ],
      "text/markdown": [
       "0"
      ],
      "text/plain": [
       "[1] 0"
      ]
     },
     "metadata": {},
     "output_type": "display_data"
    }
   ],
   "source": [
    "#NA_STG_train<-sum(is.na(user_training$STG))\n",
    "\n",
    "NA_STG_train <- num_na(user_training, STG)\n",
    "NA_STG_train\n",
    "\n",
    "NA_PEG_train <- num_na(user_training, PEG)\n",
    "NA_PEG_train\n",
    "\n",
    "NA_STG_test <- num_na(user_testing, STG)\n",
    "NA_STG_test\n",
    "\n",
    "NA_PEG_test <- num_na(user_testing, PEG)\n",
    "NA_PEG_test"
   ]
  },
  {
   "cell_type": "markdown",
   "metadata": {},
   "source": [
    "Table 1.7.5 The number of rows that have missing data in the predictor and explanatory variables"
   ]
  },
  {
   "cell_type": "markdown",
   "metadata": {},
   "source": [
    "As indicated above in Table 1.7.5, there is no missing data in both the STG and PEG columns of our training and testing datasets."
   ]
  },
  {
   "cell_type": "markdown",
   "metadata": {},
   "source": [
    "#### 1.8 Visualizing the Data\n",
    "\n",
    "Refer back to the ggpairs plot for additional visualization.\n",
    "\n",
    "Below we are plotting PEG against STG.\n"
   ]
  },
  {
   "cell_type": "code",
   "execution_count": 95,
   "metadata": {},
   "outputs": [
    {
     "data": {
      "image/png": "[encoded data removed]",
      "text/plain": [
       "plot without title"
      ]
     },
     "metadata": {
      "image/png": {
       "height": 420,
       "width": 420
      }
     },
     "output_type": "display_data"
    }
   ],
   "source": [
    "peg_stg <- user_training %>%\n",
    "    ggplot(aes(x=STG, y=PEG))+ \n",
    "    geom_point()+\n",
    "    labs(y = \"Exam performance of user for goal objects (PEG)\" , x = \"Degree of study time for goal object materials (STG)\", title = \"PEG vs. STG\")+\n",
    "    theme(text=element_text(size=15))\n",
    "peg_stg"
   ]
  },
  {
   "cell_type": "markdown",
   "metadata": {},
   "source": [
    "    Figure1.8.1 The plot of the relationship between PEG and STG"
   ]
  },
  {
   "cell_type": "markdown",
   "metadata": {},
   "source": [
    "As observed in Figure 1.8.1, there isn’t a clear relationship or pattern between PEG and STG. There is neither a linear/nonlinear nor a positive/negative relationship, as the points are spread out widely on the graph. \n",
    "\n",
    "Therefore, no evident relationship can be observed between these two variables. "
   ]
  },
  {
   "cell_type": "markdown",
   "metadata": {},
   "source": [
    "### 2. Methods & Results"
   ]
  },
  {
   "cell_type": "markdown",
   "metadata": {},
   "source": [
    "In order to answer our predictive question, we followed a series of steps to perform our data analysis.\n",
    "\n",
    "We first loaded our dataset (students’ exam performance about Electrical DC Machines) from the web. The data set was already initially split into training and data sets, so we loaded the respective sheets in. We could observe from the printed tables that the data was already tidy, since each row was a single observation, each column was a single variable, and each value was a single cell. Therefore, we did not need to do any further tidying.  \n",
    "\n",
    "\n",
    "Next, as part of determining which predictor and explanatory variable to use, we performed a ggpairs visualization to compare the distributions of each predictor variable available in our data set. With some additional reasoning, we chose PEG as our explanatory variable and STG as our predictor variable. We then selected just these two variables in our data set to remove irrelevant columns to our analysis.\n",
    "\n",
    "\n",
    "We then performed relevant summaries of the data for exploratory data analysis. This included finding the means, maxes and mins, number of observations, and rows of missing data of our variables of interest (PEG and STG). This allowed us to get a better picture of the data we were working with.\n",
    "Following this, we created a visualization to see the relationship between our chosen variables, with STG on the x-axis and PEG on the y-axis. After plotting PEG against STG, we could not observe a strong relationship between the two, as we saw that the data points were spread out and did not follow a clear or direct relationship. \n",
    "\n",
    "\n",
    "To perform the actual data analysis, we used regression to predict a student’s exam performance (PEG) based on their study time (STG). Since we were predicting a numerical value instead of a categorical value, we had to use regression to evaluate and create a prediction. From what we had seen from our exploratory data analysis, K-NN regression seemed to be the better choice as it would allow for more flexibility, but we tested both the accuracies of K-NN and linear regression, and compared them to find the best approach. We trained our regression with our training data and assessed its accuracy with our testing data. To assess the accuracy, we calculated the Root Mean Squared Prediction Error (RMSPE) of our model on the test data to see how well our model generalizes to future data. RMSPE is the square root of the difference between the observed and predicted value of the ith test observation, divided by the number of observations. This indicates how well our model is able to predict on unseen data.\n",
    "\n",
    "\n",
    "To visualize our final results, we plotted our predictions as a line using geom_smooth overlaid our testing data to see the relationship between the two. The x-axis is STG, and the y-axis is PEG.\n"
   ]
  },
  {
   "cell_type": "markdown",
   "metadata": {},
   "source": [
    "#### 2.1 Standardizing the data\n"
   ]
  },
  {
   "cell_type": "markdown",
   "metadata": {},
   "source": [
    "As a rule of thumb, standardizing our training data should be a part of the preprocessing before any predictive modelling or analysis, although as mentioned and observed in Figure 1.8.1, the range of the x-axis and y-axis on the scatterplot have roughly the same scale. From the summaries of Figures 1.7.1 to 1.7.3, we can also see that both the predictor and the response variables are close in value and share a similar scale.\n",
    "\n",
    "There is no need to scale or standardize the data for linear regression, but it is still good practice to scale the data for K-NN regression, since it is extremely sensitive to differing scales of the variables. "
   ]
  },
  {
   "cell_type": "markdown",
   "metadata": {},
   "source": [
    "#### 2.2 Linear Regression"
   ]
  },
  {
   "cell_type": "markdown",
   "metadata": {},
   "source": [
    "Creating and assigning our linear regression model specification to an object called lm_spec.\n"
   ]
  },
  {
   "cell_type": "code",
   "execution_count": 96,
   "metadata": {},
   "outputs": [],
   "source": [
    "lm_spec <- linear_reg() %>%\n",
    "        set_engine(\"lm\") %>%\n",
    "        set_mode(\"regression\")"
   ]
  },
  {
   "cell_type": "markdown",
   "metadata": {},
   "source": [
    "Creating a recipe for the model and assigning it to credit_recipe."
   ]
  },
  {
   "cell_type": "code",
   "execution_count": 97,
   "metadata": {},
   "outputs": [],
   "source": [
    "performance_recipe <- recipe(PEG~.,data=user_training)"
   ]
  },
  {
   "cell_type": "markdown",
   "metadata": {},
   "source": [
    "Fitting our simple linear regression model by using the model specification and recipe."
   ]
  },
  {
   "cell_type": "code",
   "execution_count": 98,
   "metadata": {},
   "outputs": [
    {
     "data": {
      "text/plain": [
       "== Workflow [trained] ==================================================================================================\n",
       "\u001b[3mPreprocessor:\u001b[23m Recipe\n",
       "\u001b[3mModel:\u001b[23m linear_reg()\n",
       "\n",
       "-- Preprocessor --------------------------------------------------------------------------------------------------------\n",
       "0 Recipe Steps\n",
       "\n",
       "-- Model ---------------------------------------------------------------------------------------------------------------\n",
       "\n",
       "Call:\n",
       "stats::lm(formula = ..y ~ ., data = data)\n",
       "\n",
       "Coefficients:\n",
       "(Intercept)          STG  \n",
       "     0.3656       0.2505  \n"
      ]
     },
     "metadata": {},
     "output_type": "display_data"
    }
   ],
   "source": [
    "performance_fit <- workflow() %>%\n",
    "add_recipe(performance_recipe) %>%\n",
    "add_model(lm_spec) %>%\n",
    "fit(data = user_training)\n",
    "\n",
    "performance_fit"
   ]
  },
  {
   "cell_type": "markdown",
   "metadata": {},
   "source": [
    "Table 2.2.1 the model of linear regression between the STG and PEG"
   ]
  },
  {
   "cell_type": "markdown",
   "metadata": {},
   "source": [
    "Looking at the slopes and coefficients from the table 2.2.1 from each of the predictors, we can create our prediction model:\n"
   ]
  },
  {
   "cell_type": "markdown",
   "metadata": {},
   "source": [
    "Linear Regression Model: the degree of student performance = 0.3656 + 0.2505 * the degree of study time"
   ]
  },
  {
   "cell_type": "markdown",
   "metadata": {},
   "source": [
    "As the degree of study time increases in one unit, the degree of student performance will increase by 0.2505 units.\n",
    "\n",
    "We haven't declared the units of STG and PEG here since both STG and PEG are expressed in degree in the oriignal dataset."
   ]
  },
  {
   "cell_type": "markdown",
   "metadata": {},
   "source": [
    "Calculating the RMSE to assess goodness of fit on performance_fit"
   ]
  },
  {
   "cell_type": "code",
   "execution_count": 99,
   "metadata": {},
   "outputs": [
    {
     "data": {
      "text/html": [
       "<table class=\"dataframe\">\n",
       "<caption>A tibble: 1 × 1</caption>\n",
       "<thead>\n",
       "\t<tr><th scope=col>.estimate</th></tr>\n",
       "\t<tr><th scope=col>&lt;dbl&gt;</th></tr>\n",
       "</thead>\n",
       "<tbody>\n",
       "\t<tr><td>0.2492334</td></tr>\n",
       "</tbody>\n",
       "</table>\n"
      ],
      "text/latex": [
       "A tibble: 1 × 1\n",
       "\\begin{tabular}{l}\n",
       " .estimate\\\\\n",
       " <dbl>\\\\\n",
       "\\hline\n",
       "\t 0.2492334\\\\\n",
       "\\end{tabular}\n"
      ],
      "text/markdown": [
       "\n",
       "A tibble: 1 × 1\n",
       "\n",
       "| .estimate &lt;dbl&gt; |\n",
       "|---|\n",
       "| 0.2492334 |\n",
       "\n"
      ],
      "text/plain": [
       "  .estimate\n",
       "1 0.2492334"
      ]
     },
     "metadata": {},
     "output_type": "display_data"
    }
   ],
   "source": [
    "lm_rmse <- performance_fit %>%\n",
    "        predict(user_training) %>%\n",
    "        bind_cols(user_training) %>%\n",
    "        metrics(truth = PEG ,estimate = .pred) %>%\n",
    "        filter(.metric == \"rmse\") %>%\n",
    "        select(.estimate) \n",
    "lm_rmse"
   ]
  },
  {
   "cell_type": "markdown",
   "metadata": {},
   "source": [
    "knn_rmspe <- performance_fit_knn %>%\n",
    "  predict(user_testing) %>%\n",
    "  bind_cols(user_testing) %>%\n",
    "  metrics(truth = PEG, estimate = .pred)%>%\n",
    "  filter(.metric == 'rmse') %>%\n",
    "  pull(.estimate) \n",
    "\n",
    "knn_rmspeTable 2.2.1 The RMSE (of our training data) of linear regression"
   ]
  },
  {
   "cell_type": "markdown",
   "metadata": {},
   "source": [
    "Calculating the RMSPE to assess how well the model predicts on the testing data"
   ]
  },
  {
   "cell_type": "code",
   "execution_count": 100,
   "metadata": {},
   "outputs": [
    {
     "data": {
      "text/html": [
       "<table class=\"dataframe\">\n",
       "<caption>A tibble: 1 × 1</caption>\n",
       "<thead>\n",
       "\t<tr><th scope=col>.estimate</th></tr>\n",
       "\t<tr><th scope=col>&lt;dbl&gt;</th></tr>\n",
       "</thead>\n",
       "<tbody>\n",
       "\t<tr><td>0.2810959</td></tr>\n",
       "</tbody>\n",
       "</table>\n"
      ],
      "text/latex": [
       "A tibble: 1 × 1\n",
       "\\begin{tabular}{l}\n",
       " .estimate\\\\\n",
       " <dbl>\\\\\n",
       "\\hline\n",
       "\t 0.2810959\\\\\n",
       "\\end{tabular}\n"
      ],
      "text/markdown": [
       "\n",
       "A tibble: 1 × 1\n",
       "\n",
       "| .estimate &lt;dbl&gt; |\n",
       "|---|\n",
       "| 0.2810959 |\n",
       "\n"
      ],
      "text/plain": [
       "  .estimate\n",
       "1 0.2810959"
      ]
     },
     "metadata": {},
     "output_type": "display_data"
    }
   ],
   "source": [
    "lm_rmspe <- performance_fit %>%\n",
    "        predict(user_testing) %>%\n",
    "        bind_cols(user_testing) %>%\n",
    "        metrics(truth = PEG ,estimate = .pred) %>%\n",
    "        filter(.metric == \"rmse\") %>%\n",
    "        select(.estimate) \n",
    "lm_rmspe"
   ]
  },
  {
   "cell_type": "markdown",
   "metadata": {},
   "source": [
    "Table 2.2.2 The RMSPE (of our testing data) of linear regression"
   ]
  },
  {
   "cell_type": "markdown",
   "metadata": {},
   "source": [
    "The RMSE (of our training data) of linear regression is 0.249.\n",
    "\n",
    "The RMSPE (of our testing data) of the linear regression is 0.281."
   ]
  },
  {
   "cell_type": "markdown",
   "metadata": {},
   "source": [
    "#### 2.3 K-NN Regression"
   ]
  },
  {
   "cell_type": "markdown",
   "metadata": {},
   "source": [
    "Because we have already set the seed at the beginning of the report, we don't need to set the seed again. The procedure is reproducible.\n",
    "\n",
    "Scaling and shifting our predictors on the training data\n",
    "\n",
    "Creating and assigning the K-NN regression model specification to an object called performance_knn_recipe."
   ]
  },
  {
   "cell_type": "code",
   "execution_count": 101,
   "metadata": {},
   "outputs": [],
   "source": [
    "performance_knn_recipe <- recipe(PEG ~., data = user_training) %>%\n",
    "                        step_center(all_predictors()) %>%\n",
    "                        step_scale(all_predictors())\n",
    "\n",
    "performance_knn_spec <- nearest_neighbor(weight_func = \"rectangular\", neighbors = tune()) %>%\n",
    "                      set_engine(\"kknn\") %>%\n",
    "                      set_mode(\"regression\")\n",
    "\n",
    "performance_vfold <- vfold_cv(user_training, v = 5, strata = PEG)\n",
    "\n",
    "performance_knn_workflow <- workflow() %>%\n",
    "                        add_recipe(performance_knn_recipe) %>%\n",
    "                        add_model(performance_knn_spec)\n",
    "\n",
    "gridvals <- tibble(neighbors = seq(1,20))\n",
    "\n",
    "performance_knn_results <- performance_knn_workflow %>%\n",
    "                       tune_grid(resamples = performance_vfold, grid = gridvals) %>%\n",
    "                       collect_metrics() \n"
   ]
  },
  {
   "cell_type": "markdown",
   "metadata": {},
   "source": [
    "Selecting the value of k resulting in best RMSE"
   ]
  },
  {
   "cell_type": "code",
   "execution_count": 102,
   "metadata": {},
   "outputs": [
    {
     "data": {
      "text/html": [
       "20"
      ],
      "text/latex": [
       "20"
      ],
      "text/markdown": [
       "20"
      ],
      "text/plain": [
       "[1] 20"
      ]
     },
     "metadata": {},
     "output_type": "display_data"
    }
   ],
   "source": [
    "kmin <- performance_knn_results %>%\n",
    "               filter(.metric == 'rmse') %>%\n",
    "               filter(mean == min(mean))  %>% \n",
    "               pull(neighbors)\n",
    "kmin"
   ]
  },
  {
   "cell_type": "markdown",
   "metadata": {},
   "source": [
    "The best value of K (and hence the one we will be using) yielding the lowest error is K = 20."
   ]
  },
  {
   "cell_type": "markdown",
   "metadata": {},
   "source": [
    "Retraining the model using K = 20 and predicting on held-out (testing) data"
   ]
  },
  {
   "cell_type": "code",
   "execution_count": 103,
   "metadata": {},
   "outputs": [
    {
     "data": {
      "text/html": [
       "<table class=\"dataframe\">\n",
       "<caption>A tibble: 1 × 3</caption>\n",
       "<thead>\n",
       "\t<tr><th scope=col>.metric</th><th scope=col>.estimator</th><th scope=col>.estimate</th></tr>\n",
       "\t<tr><th scope=col>&lt;chr&gt;</th><th scope=col>&lt;chr&gt;</th><th scope=col>&lt;dbl&gt;</th></tr>\n",
       "</thead>\n",
       "<tbody>\n",
       "\t<tr><td>rmse</td><td>standard</td><td>0.2273411</td></tr>\n",
       "</tbody>\n",
       "</table>\n"
      ],
      "text/latex": [
       "A tibble: 1 × 3\n",
       "\\begin{tabular}{lll}\n",
       " .metric & .estimator & .estimate\\\\\n",
       " <chr> & <chr> & <dbl>\\\\\n",
       "\\hline\n",
       "\t rmse & standard & 0.2273411\\\\\n",
       "\\end{tabular}\n"
      ],
      "text/markdown": [
       "\n",
       "A tibble: 1 × 3\n",
       "\n",
       "| .metric &lt;chr&gt; | .estimator &lt;chr&gt; | .estimate &lt;dbl&gt; |\n",
       "|---|---|---|\n",
       "| rmse | standard | 0.2273411 |\n",
       "\n"
      ],
      "text/plain": [
       "  .metric .estimator .estimate\n",
       "1 rmse    standard   0.2273411"
      ]
     },
     "metadata": {},
     "output_type": "display_data"
    }
   ],
   "source": [
    "\n",
    "performance_spec_knn <- nearest_neighbor(weight_func = \"rectangular\", neighbors = kmin) %>%\n",
    "  set_engine(\"kknn\") %>%\n",
    "  set_mode(\"regression\")\n",
    "\n",
    "performance_fit_knn <- workflow() %>%\n",
    "  add_recipe(performance_knn_recipe) %>%\n",
    "  add_model(performance_spec_knn) %>%\n",
    "  fit(data = user_training)\n",
    "\n",
    "knn_rmse <- performance_fit_knn %>%\n",
    "  predict(user_training) %>%\n",
    "  bind_cols(user_training) %>%\n",
    "  metrics(truth = PEG, estimate = .pred)%>%\n",
    "  filter(.metric == 'rmse') \n",
    "\n",
    "knn_rmse"
   ]
  },
  {
   "cell_type": "markdown",
   "metadata": {},
   "source": [
    "Table 2.3.1 The RMSE (of training data) of K-NN regression."
   ]
  },
  {
   "cell_type": "code",
   "execution_count": 104,
   "metadata": {},
   "outputs": [
    {
     "data": {
      "text/html": [
       "<table class=\"dataframe\">\n",
       "<caption>A tibble: 1 × 3</caption>\n",
       "<thead>\n",
       "\t<tr><th scope=col>.metric</th><th scope=col>.estimator</th><th scope=col>.estimate</th></tr>\n",
       "\t<tr><th scope=col>&lt;chr&gt;</th><th scope=col>&lt;chr&gt;</th><th scope=col>&lt;dbl&gt;</th></tr>\n",
       "</thead>\n",
       "<tbody>\n",
       "\t<tr><td>rmse</td><td>standard</td><td>0.2574795</td></tr>\n",
       "</tbody>\n",
       "</table>\n"
      ],
      "text/latex": [
       "A tibble: 1 × 3\n",
       "\\begin{tabular}{lll}\n",
       " .metric & .estimator & .estimate\\\\\n",
       " <chr> & <chr> & <dbl>\\\\\n",
       "\\hline\n",
       "\t rmse & standard & 0.2574795\\\\\n",
       "\\end{tabular}\n"
      ],
      "text/markdown": [
       "\n",
       "A tibble: 1 × 3\n",
       "\n",
       "| .metric &lt;chr&gt; | .estimator &lt;chr&gt; | .estimate &lt;dbl&gt; |\n",
       "|---|---|---|\n",
       "| rmse | standard | 0.2574795 |\n",
       "\n"
      ],
      "text/plain": [
       "  .metric .estimator .estimate\n",
       "1 rmse    standard   0.2574795"
      ]
     },
     "metadata": {},
     "output_type": "display_data"
    }
   ],
   "source": [
    "knn_rmspe <- performance_fit_knn %>%\n",
    "  predict(user_testing) %>%\n",
    "  bind_cols(user_testing) %>%\n",
    "  metrics(truth = PEG, estimate = .pred)%>%\n",
    "  filter(.metric == 'rmse') \n",
    "\n",
    "knn_rmspe"
   ]
  },
  {
   "cell_type": "markdown",
   "metadata": {},
   "source": [
    "Table 2.3.2 The RMSPE (of testing data) of K-NN regression."
   ]
  },
  {
   "cell_type": "markdown",
   "metadata": {},
   "source": [
    "The RMSE (of training data) of K-NN regression is 0.227.\n",
    "\n",
    "The RMSPE (of testing data) of K-NN regression is 0.257."
   ]
  },
  {
   "cell_type": "markdown",
   "metadata": {},
   "source": [
    "#### 2.4 Visualization of Linear Regression"
   ]
  },
  {
   "cell_type": "code",
   "execution_count": 105,
   "metadata": {},
   "outputs": [
    {
     "name": "stderr",
     "output_type": "stream",
     "text": [
      "`geom_smooth()` using formula 'y ~ x'\n",
      "\n"
     ]
    },
    {
     "data": {
      "image/png": "[encoded data removed]",
      "text/plain": [
       "plot without title"
      ]
     },
     "metadata": {
      "image/png": {
       "height": 420,
       "width": 420
      }
     },
     "output_type": "display_data"
    }
   ],
   "source": [
    "lm_predictions <- user_training %>%\n",
    "    ggplot(aes(x = STG, y = PEG)) +\n",
    "        geom_point() +\n",
    "        geom_smooth(method = \"lm\", se = FALSE) +\n",
    "        xlab(\"Degree of study time\") +\n",
    "        ylab(\"Degree of student performance\") +\n",
    "        ggtitle(\"Linear regression fitting model between STG and PEG\")+\n",
    "        theme(text = element_text(size = 14))\n",
    "lm_predictions"
   ]
  },
  {
   "cell_type": "markdown",
   "metadata": {},
   "source": [
    "Figure 2.4.1 Linear regression fitted over STG and PEG"
   ]
  },
  {
   "cell_type": "markdown",
   "metadata": {},
   "source": [
    "Figure 2.4.1 shows our linear regression model overlaid our testing data with STG on the x-axis and PEG on the y-axis. \n",
    "\n",
    "We can see that since the data itself is quite spread out, the plotted line of our linear regression cuts through the points, as linear regression usually does. We can see that the points are distributed relatively evenly over and under our fitted line. "
   ]
  },
  {
   "cell_type": "markdown",
   "metadata": {},
   "source": [
    "#### 2.5 Visualization of the K-NN Regression"
   ]
  },
  {
   "cell_type": "code",
   "execution_count": 106,
   "metadata": {},
   "outputs": [
    {
     "data": {
      "image/png": "[encoded data removed]",
      "text/plain": [
       "plot without title"
      ]
     },
     "metadata": {
      "image/png": {
       "height": 420,
       "width": 420
      }
     },
     "output_type": "display_data"
    }
   ],
   "source": [
    "knn_pred <- performance_fit_knn %>%\n",
    "  predict(user_training) %>%\n",
    "  bind_cols(user_training)\n",
    "knn_regression_plot <- ggplot(user_training, aes(x = STG, y = PEG)) +\n",
    "  geom_point(alpha = 0.4) +\n",
    "  geom_line(data = knn_pred, \n",
    "            mapping = aes(x = STG, y = .pred), \n",
    "            color = \"blue\") +\n",
    "  xlab(\"Degree of study time\") +\n",
    "  ylab(\"Degree of study performance\") +\n",
    "  ggtitle(\"K-NN regression fitting model between STG and PEG\") +\n",
    "  theme(text = element_text(size = 14))\n",
    "\n",
    "knn_regression_plot"
   ]
  },
  {
   "cell_type": "markdown",
   "metadata": {},
   "source": [
    "Figure 2.5.1 the K-NN regression between STG and PEG"
   ]
  },
  {
   "cell_type": "markdown",
   "metadata": {},
   "source": [
    "Figure 2.5.1 shows our K-NN regression model overlaid our testing data with STG on the x-axis and PEG on the y-axis. \n",
    "\n",
    "We can see that although the data itself is quite spread out, the plotted line of our K-NN regression tries to follow the data points by producing “wiggles”. \n",
    "This indicates that it is more flexible than our linear model, since it tries to follow most of the points instead of cutting through them.\n",
    "\n",
    "However, it is unclear if our model underfits or overfits the data since the testing data points themselves are spread out across the entire graph and there is a lot of randomness in our data."
   ]
  },
  {
   "cell_type": "markdown",
   "metadata": {},
   "source": [
    "#### 2.6 Comparing and Contrasting End Results"
   ]
  },
  {
   "cell_type": "markdown",
   "metadata": {},
   "source": [
    "Looking at the visualizations of both methods, we cannot evidently see which model is better. The linear regression model has a relatively even ratio of points above and under the fitted line, but our K-NN Regression is also flexible and follows the data points. Hence, we must rely on the calculated RMSPE to determine the better model.\n",
    "\n",
    "As seen in Sections 2.2 and 2.3, the the RMSE (of our training data) of linear regression is 0.249, and the RMSPE (of our testing data) of the linear regression is 0.281. The RMSE (of training data) of K-NN regression is 0.227, and the RMSPE (of testing data) of K-NN linear regression is 0.257. By comparing the RMSE of both methods, we can see that our K-NN regression model has a slightly lower RMSE on our training data. By comparing the RMSPE of both methods, we can see that again our K-NN regression model has a slightly lower RMSPE on our testing data. Therefore, our K-NN Regression Model is slightly more accurate.\n",
    "\n",
    "Due to the higher accuracy of our K-NN Regression, our final visualization of the best model is shown in Figure 2.5.1. "
   ]
  },
  {
   "cell_type": "markdown",
   "metadata": {},
   "source": [
    "### 3. Discussion"
   ]
  },
  {
   "cell_type": "markdown",
   "metadata": {},
   "source": [
    "Before performing the analysis, we had expected to find a positive, linear relationship between PEG and STG. As a student spends more time studying, they should perform better. As a result of our analysis, we have found the accuracy for our linear regression model to be 0.257, while the accuracy of our K-NN regression is 0.227 (where the range of degree is 1). \n",
    "\n",
    "Both of these types of regression have a prediction error percentage of about 40% (therefore our accuracy is about 60%), but as discussed in 2.6, our K-NN Regression model is slightly better than our linear regression due to its higher accuracy, which is consistent with our guess in Methods. Our model has relatively low accuracy. \n",
    "\n",
    "This was not quite what we had expected to find as the outcome of our analysis, since we initially expected to be able to observe a clearer positive relationship between STG and PEG. However, this can still be reasoned with the fact that there was already not much of a strong relationship between STG and PEG as described in Section 1.8.  \n",
    "\n",
    "As mentioned in the Introduction, we had initially believed the accuracy of our K-NN regression to be about 80%. Since there are no missing observations in our data set, there may be several reasons causing this difference in estimated accuracy and the actual accuracy calculated. On one hand, this can be attributed to the fact that exam performance could be affected by other external factors such as health condition, student IQ, stress levels, learning ability, etc. that were not in the data set. On the other hand, we can also say that our data set may not be big enough to directly draw a relationship between just study time and exam performance. \n",
    "\n",
    "It would be best to seek out another form of prediction that can predict using multiple factors (which would be outside the scope of what we have learned thus far in our course), or find a larger data set with more observations.\n",
    "\n",
    "In conclusion, our findings will somewhat help students assess how well they are performing in comparison to the time they are spending studying. As you spend more time studying, you may perform better, but other external factors can also come into play and affect your final results. Since it is final season, it is important to remember that although studying is extremely important, it is also crucial to take care of other things such as your physical and mental health. \n",
    "\n",
    "This study can also be beneficial to find the best study methods and learn how to study more efficiently. Some future questions to consider:"
   ]
  },
  {
   "cell_type": "markdown",
   "metadata": {},
   "source": [
    "* How much time should a student be spending studying to improve exam performance?\n",
    "* How do other factors (such as repetition, knowledge level, etc.) contribute to exam performance?\n",
    "* Can a similar approach be used in the industry to predict workers' performance based on their working time? How?"
   ]
  },
  {
   "cell_type": "markdown",
   "metadata": {},
   "source": [
    "### 4. References"
   ]
  },
  {
   "cell_type": "markdown",
   "metadata": {},
   "source": [
    "Colak, I., Sagiroglu, S., & Kahraman, H. T. (2008, December). A user modeling approach to web based adaptive educational hypermedia systems. In 2008 Seventh International Conference on Machine Learning and Applications (pp. 694-699). IEEE."
   ]
  },
  {
   "cell_type": "markdown",
   "metadata": {},
   "source": [
    "H. T. Kahraman, Sagiroglu, S., Colak, I., Developing intuitive knowledge classifier and modeling of users' domain dependent data in web, Knowledge Based Systems, vol. 37, pp. 283-295, 2013."
   ]
  },
  {
   "cell_type": "markdown",
   "metadata": {},
   "source": [
    "Kahraman, H. T. (2009). Designing and Application of Web-Based Adaptive Intelligent Education System. Gazi University Ph. D. Thesis, Turkey, 1-156."
   ]
  },
  {
   "cell_type": "markdown",
   "metadata": {},
   "source": [
    "Tsiriga, V., & Virvou, M. (2004). A framework for the initialization of student models in web-based intelligent tutoring systems. User Modeling and User-Adapted Interaction, 14(4), 289-316."
   ]
  },
  {
   "cell_type": "markdown",
   "metadata": {},
   "source": [
    "UCI Machine Learning Repository: User Knowledge Modeling Data Set. (2009, October). Machine Learning Repository. Retrieved Novermber 6, 2021, from https://archive.ics.uci.edu/ml/datasets/User+Knowledge+Modeling "
   ]
  }
 ],
 "metadata": {
  "kernelspec": {
   "display_name": "R",
   "language": "R",
   "name": "ir"
  },
  "language_info": {
   "codemirror_mode": "r",
   "file_extension": ".r",
   "mimetype": "text/x-r-source",
   "name": "R",
   "pygments_lexer": "r",
   "version": "4.1.2"
  }
 },
 "nbformat": 4,
 "nbformat_minor": 4
}

{
 "cells": [
  {
   "cell_type": "markdown",
   "metadata": {},
   "source": [
    "# DSCI310_Group8 Project Milestone1"
   ]
  },
  {
   "cell_type": "code",
   "execution_count": 133,
   "metadata": {
    "tags": []
   },
   "outputs": [],
   "source": [
    "library(tidyverse)\n",
    "library(digest)\n",
    "library(repr)\n",
    "library(tidymodels)\n",
    "library(readxl)\n",
    "library(cowplot)\n",
    "library(GGally)\n",
    "library(broom)\n",
    "library(rlang)\n",
    "library(testthat)\n",
    "options(repr.matrix.max.rows = 6)\n",
    "\n",
    "set.seed(123)\n",
    "source(\"../src/r/load_data.r\")\n",
    "source(\"../src/r/wrangle_data.r\")\n",
    "source(\"../src/r/summary_fun.r\")\n",
    "source(\"../src/r/num_na.r\")\n"
   ]
  },
  {
   "cell_type": "code",
   "execution_count": 134,
   "metadata": {},
   "outputs": [
    {
     "ename": "ERROR",
     "evalue": "Error in load_data(dest, 2, STG, SCG, STR, LPR, PEG, UNS): object 'STG' not found\n",
     "output_type": "error",
     "traceback": [
      "Error in load_data(dest, 2, STG, SCG, STR, LPR, PEG, UNS): object 'STG' not found\nTraceback:\n",
      "1. load_data(dest, 2, STG, SCG, STR, LPR, PEG, UNS)"
     ]
    }
   ],
   "source": [
    "dest <- \"../data/raw/student_performance.xls\"\n",
    "cols <- c(\"STG\", \"SCG\", \"STR\", \"LPR\", \"PEG\", \"UNS\")\n",
    "data_1 <- load_data(dest, 2, STG, SCG, STR, LPR, PEG, UNS)\n",
    "data_2 <- load_data(dest, 3, STG, SCG, STR, LPR, PEG, UNS)\n",
    "\n"
   ]
  },
  {
   "cell_type": "code",
   "execution_count": 93,
   "metadata": {},
   "outputs": [],
   "source": [
    "#user_training <- data_1 %>%\n",
    "#select(STG,PEG) \n",
    "#interest_variables <- c(\"STG\", \"PEG\")\n",
    "user_training <- wrangle_data(data_1)"
   ]
  },
  {
   "cell_type": "code",
   "execution_count": 132,
   "metadata": {},
   "outputs": [
    {
     "data": {
      "text/html": [
       "<table class=\"dataframe\">\n",
       "<caption>A tibble: 6 × 2</caption>\n",
       "<thead>\n",
       "\t<tr><th scope=col>STG</th><th scope=col>PEG</th></tr>\n",
       "\t<tr><th scope=col>&lt;dbl&gt;</th><th scope=col>&lt;dbl&gt;</th></tr>\n",
       "</thead>\n",
       "<tbody>\n",
       "\t<tr><td>0.00</td><td>0.05</td></tr>\n",
       "\t<tr><td>0.05</td><td>0.14</td></tr>\n",
       "\t<tr><td>0.08</td><td>0.85</td></tr>\n",
       "\t<tr><td>0.20</td><td>0.85</td></tr>\n",
       "\t<tr><td>0.22</td><td>0.90</td></tr>\n",
       "\t<tr><td>0.14</td><td>0.30</td></tr>\n",
       "</tbody>\n",
       "</table>\n"
      ],
      "text/latex": [
       "A tibble: 6 × 2\n",
       "\\begin{tabular}{ll}\n",
       " STG & PEG\\\\\n",
       " <dbl> & <dbl>\\\\\n",
       "\\hline\n",
       "\t 0.00 & 0.05\\\\\n",
       "\t 0.05 & 0.14\\\\\n",
       "\t 0.08 & 0.85\\\\\n",
       "\t 0.20 & 0.85\\\\\n",
       "\t 0.22 & 0.90\\\\\n",
       "\t 0.14 & 0.30\\\\\n",
       "\\end{tabular}\n"
      ],
      "text/markdown": [
       "\n",
       "A tibble: 6 × 2\n",
       "\n",
       "| STG &lt;dbl&gt; | PEG &lt;dbl&gt; |\n",
       "|---|---|\n",
       "| 0.00 | 0.05 |\n",
       "| 0.05 | 0.14 |\n",
       "| 0.08 | 0.85 |\n",
       "| 0.20 | 0.85 |\n",
       "| 0.22 | 0.90 |\n",
       "| 0.14 | 0.30 |\n",
       "\n"
      ],
      "text/plain": [
       "  STG  PEG \n",
       "1 0.00 0.05\n",
       "2 0.05 0.14\n",
       "3 0.08 0.85\n",
       "4 0.20 0.85\n",
       "5 0.22 0.90\n",
       "6 0.14 0.30"
      ]
     },
     "metadata": {},
     "output_type": "display_data"
    }
   ],
   "source": [
    "#user_testing <-data_2 %>%\n",
    "#select(STG,PEG)\n",
    "user_testing <- wrangle_data(data_2)\n",
    "head(user_testing)"
   ]
  },
  {
   "cell_type": "code",
   "execution_count": 112,
   "metadata": {},
   "outputs": [
    {
     "data": {
      "text/html": [
       "<table class=\"dataframe\">\n",
       "<caption>A tibble: 1 × 2</caption>\n",
       "<thead>\n",
       "\t<tr><th scope=col>STG</th><th scope=col>PEG</th></tr>\n",
       "\t<tr><th scope=col>&lt;dbl&gt;</th><th scope=col>&lt;dbl&gt;</th></tr>\n",
       "</thead>\n",
       "<tbody>\n",
       "\t<tr><td>0.3711473</td><td>0.4585388</td></tr>\n",
       "</tbody>\n",
       "</table>\n"
      ],
      "text/latex": [
       "A tibble: 1 × 2\n",
       "\\begin{tabular}{ll}\n",
       " STG & PEG\\\\\n",
       " <dbl> & <dbl>\\\\\n",
       "\\hline\n",
       "\t 0.3711473 & 0.4585388\\\\\n",
       "\\end{tabular}\n"
      ],
      "text/markdown": [
       "\n",
       "A tibble: 1 × 2\n",
       "\n",
       "| STG &lt;dbl&gt; | PEG &lt;dbl&gt; |\n",
       "|---|---|\n",
       "| 0.3711473 | 0.4585388 |\n",
       "\n"
      ],
      "text/plain": [
       "  STG       PEG      \n",
       "1 0.3711473 0.4585388"
      ]
     },
     "metadata": {},
     "output_type": "display_data"
    }
   ],
   "source": [
    "#user_means <- user_training %>%\n",
    "#map_df(mean, na.rm =TRUE)\n",
    "user_means <- summary_fun(user_training,mean)\n",
    "user_means"
   ]
  },
  {
   "cell_type": "code",
   "execution_count": 113,
   "metadata": {},
   "outputs": [
    {
     "data": {
      "text/html": [
       "<table class=\"dataframe\">\n",
       "<caption>A tibble: 1 × 2</caption>\n",
       "<thead>\n",
       "\t<tr><th scope=col>STG</th><th scope=col>PEG</th></tr>\n",
       "\t<tr><th scope=col>&lt;dbl&gt;</th><th scope=col>&lt;dbl&gt;</th></tr>\n",
       "</thead>\n",
       "<tbody>\n",
       "\t<tr><td>0.99</td><td>0.93</td></tr>\n",
       "</tbody>\n",
       "</table>\n"
      ],
      "text/latex": [
       "A tibble: 1 × 2\n",
       "\\begin{tabular}{ll}\n",
       " STG & PEG\\\\\n",
       " <dbl> & <dbl>\\\\\n",
       "\\hline\n",
       "\t 0.99 & 0.93\\\\\n",
       "\\end{tabular}\n"
      ],
      "text/markdown": [
       "\n",
       "A tibble: 1 × 2\n",
       "\n",
       "| STG &lt;dbl&gt; | PEG &lt;dbl&gt; |\n",
       "|---|---|\n",
       "| 0.99 | 0.93 |\n",
       "\n"
      ],
      "text/plain": [
       "  STG  PEG \n",
       "1 0.99 0.93"
      ]
     },
     "metadata": {},
     "output_type": "display_data"
    }
   ],
   "source": [
    "#maximum <- user_training %>%\n",
    "#map_df(max,na.rm =TRUE)\n",
    "\n",
    "maximum <- summary_fun(user_training, max)\n",
    "maximum"
   ]
  },
  {
   "cell_type": "markdown",
   "metadata": {},
   "source": [
    "Table 1.7.2 The maximums of STG and PEG"
   ]
  },
  {
   "cell_type": "markdown",
   "metadata": {},
   "source": [
    "The following code is used to find the minimums of the predictor and explanatory variables (STG and PEG) we plan to use in analysis."
   ]
  },
  {
   "cell_type": "code",
   "execution_count": 130,
   "metadata": {},
   "outputs": [
    {
     "ename": "ERROR",
     "evalue": "Error in eval(expr, envir, enclos): object 'va' not found\n",
     "output_type": "error",
     "traceback": [
      "Error in eval(expr, envir, enclos): object 'va' not found\nTraceback:\n"
     ]
    }
   ],
   "source": []
  },
  {
   "cell_type": "code",
   "execution_count": 72,
   "metadata": {},
   "outputs": [
    {
     "data": {
      "text/html": [
       "<table class=\"dataframe\">\n",
       "<caption>A tibble: 1 × 2</caption>\n",
       "<thead>\n",
       "\t<tr><th scope=col>STG</th><th scope=col>PEG</th></tr>\n",
       "\t<tr><th scope=col>&lt;dbl&gt;</th><th scope=col>&lt;dbl&gt;</th></tr>\n",
       "</thead>\n",
       "<tbody>\n",
       "\t<tr><td>0</td><td>0</td></tr>\n",
       "</tbody>\n",
       "</table>\n"
      ],
      "text/latex": [
       "A tibble: 1 × 2\n",
       "\\begin{tabular}{ll}\n",
       " STG & PEG\\\\\n",
       " <dbl> & <dbl>\\\\\n",
       "\\hline\n",
       "\t 0 & 0\\\\\n",
       "\\end{tabular}\n"
      ],
      "text/markdown": [
       "\n",
       "A tibble: 1 × 2\n",
       "\n",
       "| STG &lt;dbl&gt; | PEG &lt;dbl&gt; |\n",
       "|---|---|\n",
       "| 0 | 0 |\n",
       "\n"
      ],
      "text/plain": [
       "  STG PEG\n",
       "1 0   0  "
      ]
     },
     "metadata": {},
     "output_type": "display_data"
    }
   ],
   "source": [
    "#minimum <- user_training %>%\n",
    "#map_df(min,na.rm =TRUE)\n",
    "\n",
    "minimum <- summary_fun(user_training, min)\n",
    "minimum"
   ]
  },
  {
   "cell_type": "markdown",
   "metadata": {},
   "source": [
    "Table 1.7.3 The minimums of STG and PEG"
   ]
  },
  {
   "cell_type": "code",
   "execution_count": 101,
   "metadata": {},
   "outputs": [
    {
     "data": {
      "text/html": [
       "<table class=\"dataframe\">\n",
       "<caption>A tibble: 1 × 1</caption>\n",
       "<thead>\n",
       "\t<tr><th scope=col>n</th></tr>\n",
       "\t<tr><th scope=col>&lt;int&gt;</th></tr>\n",
       "</thead>\n",
       "<tbody>\n",
       "\t<tr><td>258</td></tr>\n",
       "</tbody>\n",
       "</table>\n"
      ],
      "text/latex": [
       "A tibble: 1 × 1\n",
       "\\begin{tabular}{l}\n",
       " n\\\\\n",
       " <int>\\\\\n",
       "\\hline\n",
       "\t 258\\\\\n",
       "\\end{tabular}\n"
      ],
      "text/markdown": [
       "\n",
       "A tibble: 1 × 1\n",
       "\n",
       "| n &lt;int&gt; |\n",
       "|---|\n",
       "| 258 |\n",
       "\n"
      ],
      "text/plain": [
       "  n  \n",
       "1 258"
      ]
     },
     "metadata": {},
     "output_type": "display_data"
    }
   ],
   "source": [
    "observations <- user_training %>%\n",
    "summarize(n = n())\n",
    "observations"
   ]
  },
  {
   "cell_type": "code",
   "execution_count": 127,
   "metadata": {},
   "outputs": [],
   "source": [
    "source(\"../src/num_na.r\")"
   ]
  },
  {
   "cell_type": "code",
   "execution_count": 128,
   "metadata": {
    "tags": []
   },
   "outputs": [
    {
     "data": {
      "text/html": [
       "0"
      ],
      "text/latex": [
       "0"
      ],
      "text/markdown": [
       "0"
      ],
      "text/plain": [
       "[1] 0"
      ]
     },
     "metadata": {},
     "output_type": "display_data"
    },
    {
     "data": {
      "text/html": [
       "0"
      ],
      "text/latex": [
       "0"
      ],
      "text/markdown": [
       "0"
      ],
      "text/plain": [
       "[1] 0"
      ]
     },
     "metadata": {},
     "output_type": "display_data"
    },
    {
     "data": {
      "text/html": [
       "0"
      ],
      "text/latex": [
       "0"
      ],
      "text/markdown": [
       "0"
      ],
      "text/plain": [
       "[1] 0"
      ]
     },
     "metadata": {},
     "output_type": "display_data"
    },
    {
     "data": {
      "text/html": [
       "0"
      ],
      "text/latex": [
       "0"
      ],
      "text/markdown": [
       "0"
      ],
      "text/plain": [
       "[1] 0"
      ]
     },
     "metadata": {},
     "output_type": "display_data"
    }
   ],
   "source": [
    "#NA_STG_train<-sum(is.na(user_training$STG))\n",
    "\n",
    "NA_STG_train <- num_na(user_training, STG)\n",
    "NA_STG_train\n",
    "\n",
    "NA_PEG_train <- num_na(user_training, PEG)\n",
    "NA_PEG_train\n",
    "\n",
    "NA_STG_test <- num_na(user_testing, STG)\n",
    "NA_STG_test\n",
    "\n",
    "NA_PEG_test <- num_na(user_testing, PEG)\n",
    "NA_PEG_test"
   ]
  },
  {
   "cell_type": "code",
   "execution_count": null,
   "metadata": {},
   "outputs": [],
   "source": [
    "peg_stg <- user_training %>%\n",
    "    ggplot(aes(x=STG, y=PEG))+ \n",
    "    geom_point()+\n",
    "    labs(y = \"Exam performance of user for goal objects (PEG)\" , x = \"Degree of study time for goal object materials (STG)\", title = \"PEG vs. STG\")+\n",
    "    theme(text=element_text(size=15))\n",
    "peg_stg"
   ]
  },
  {
   "cell_type": "markdown",
   "metadata": {},
   "source": [
    "#### 2.2 Linear Regression"
   ]
  },
  {
   "cell_type": "markdown",
   "metadata": {},
   "source": [
    "Creating and assigning our linear regression model specification to an object called lm_spec.\n"
   ]
  },
  {
   "cell_type": "code",
   "execution_count": null,
   "metadata": {},
   "outputs": [],
   "source": [
    "lm_spec <- linear_reg() %>%\n",
    "        set_engine(\"lm\") %>%\n",
    "        set_mode(\"regression\")"
   ]
  },
  {
   "cell_type": "markdown",
   "metadata": {},
   "source": [
    "Creating a recipe for the model and assigning it to credit_recipe."
   ]
  },
  {
   "cell_type": "code",
   "execution_count": null,
   "metadata": {},
   "outputs": [],
   "source": [
    "performance_recipe <- recipe(PEG~.,data=user_training)"
   ]
  },
  {
   "cell_type": "markdown",
   "metadata": {},
   "source": [
    "Fitting our simple linear regression model by using the model specification and recipe."
   ]
  },
  {
   "cell_type": "code",
   "execution_count": null,
   "metadata": {},
   "outputs": [],
   "source": [
    "performance_fit <- workflow() %>%\n",
    "add_recipe(performance_recipe) %>%\n",
    "add_model(lm_spec) %>%\n",
    "fit(data = user_training)\n",
    "\n",
    "performance_fit"
   ]
  },
  {
   "cell_type": "markdown",
   "metadata": {},
   "source": [
    "Table 2.2.1 the model of linear regression between the STG and PEG"
   ]
  },
  {
   "cell_type": "markdown",
   "metadata": {},
   "source": [
    "Looking at the slopes and coefficients from the table 2.2.1 from each of the predictors, we can create our prediction model:\n"
   ]
  },
  {
   "cell_type": "markdown",
   "metadata": {},
   "source": [
    "Linear Regression Model: the degree of student performance = 0.3656 + 0.2505 * the degree of study time"
   ]
  },
  {
   "cell_type": "markdown",
   "metadata": {},
   "source": [
    "As the degree of study time increases in one unit, the degree of student performance will increase by 0.2505 units.\n",
    "\n",
    "We haven't declared the units of STG and PEG here since both STG and PEG are expressed in degree in the oriignal dataset."
   ]
  },
  {
   "cell_type": "markdown",
   "metadata": {},
   "source": [
    "Calculating the RMSE to assess goodness of fit on performance_fit"
   ]
  },
  {
   "cell_type": "code",
   "execution_count": null,
   "metadata": {},
   "outputs": [],
   "source": [
    "lm_rmse <- performance_fit %>%\n",
    "        predict(user_training) %>%\n",
    "        bind_cols(user_training) %>%\n",
    "        metrics(truth = PEG ,estimate = .pred) %>%\n",
    "        filter(.metric == \"rmse\") %>%\n",
    "        select(.estimate) \n",
    "lm_rmse"
   ]
  },
  {
   "cell_type": "markdown",
   "metadata": {},
   "source": [
    "knn_rmspe <- performance_fit_knn %>%\n",
    "  predict(user_testing) %>%\n",
    "  bind_cols(user_testing) %>%\n",
    "  metrics(truth = PEG, estimate = .pred)%>%\n",
    "  filter(.metric == 'rmse') %>%\n",
    "  pull(.estimate) \n",
    "\n",
    "knn_rmspeTable 2.2.1 The RMSE (of our training data) of linear regression"
   ]
  },
  {
   "cell_type": "markdown",
   "metadata": {},
   "source": [
    "Calculating the RMSPE to assess how well the model predicts on the testing data"
   ]
  },
  {
   "cell_type": "code",
   "execution_count": null,
   "metadata": {},
   "outputs": [],
   "source": [
    "lm_rmspe <- performance_fit %>%\n",
    "        predict(user_testing) %>%\n",
    "        bind_cols(user_testing) %>%\n",
    "        metrics(truth = PEG ,estimate = .pred) %>%\n",
    "        filter(.metric == \"rmse\") %>%\n",
    "        select(.estimate) \n",
    "lm_rmspe"
   ]
  },
  {
   "cell_type": "markdown",
   "metadata": {},
   "source": [
    "Table 2.2.2 The RMSPE (of our testing data) of linear regression"
   ]
  },
  {
   "cell_type": "markdown",
   "metadata": {},
   "source": [
    "The RMSE (of our training data) of linear regression is 0.249.\n",
    "\n",
    "The RMSPE (of our testing data) of the linear regression is 0.281."
   ]
  },
  {
   "cell_type": "markdown",
   "metadata": {},
   "source": [
    "#### 2.3 K-NN Regression"
   ]
  },
  {
   "cell_type": "markdown",
   "metadata": {},
   "source": [
    "Because we have already set the seed at the beginning of the report, we don't need to set the seed again. The procedure is reproducible.\n",
    "\n",
    "Scaling and shifting our predictors on the training data\n",
    "\n",
    "Creating and assigning the K-NN regression model specification to an object called performance_knn_recipe."
   ]
  },
  {
   "cell_type": "code",
   "execution_count": null,
   "metadata": {},
   "outputs": [],
   "source": [
    "performance_knn_recipe <- recipe(PEG ~., data = user_training) %>%\n",
    "                        step_center(all_predictors()) %>%\n",
    "                        step_scale(all_predictors())\n",
    "\n",
    "performance_knn_spec <- nearest_neighbor(weight_func = \"rectangular\", neighbors = tune()) %>%\n",
    "                      set_engine(\"kknn\") %>%\n",
    "                      set_mode(\"regression\")\n",
    "\n",
    "performance_vfold <- vfold_cv(user_training, v = 5, strata = PEG)\n",
    "\n",
    "performance_knn_workflow <- workflow() %>%\n",
    "                        add_recipe(performance_knn_recipe) %>%\n",
    "                        add_model(performance_knn_spec)\n",
    "\n",
    "gridvals <- tibble(neighbors = seq(1,20))\n",
    "\n",
    "performance_knn_results <- performance_knn_workflow %>%\n",
    "                       tune_grid(resamples = performance_vfold, grid = gridvals) %>%\n",
    "                       collect_metrics() \n"
   ]
  },
  {
   "cell_type": "markdown",
   "metadata": {},
   "source": [
    "Selecting the value of k resulting in best RMSE"
   ]
  },
  {
   "cell_type": "code",
   "execution_count": null,
   "metadata": {},
   "outputs": [],
   "source": [
    "kmin <- performance_knn_results %>%\n",
    "               filter(.metric == 'rmse') %>%\n",
    "               filter(mean == min(mean))  %>% \n",
    "               pull(neighbors)\n",
    "kmin"
   ]
  },
  {
   "cell_type": "markdown",
   "metadata": {},
   "source": [
    "The best value of K (and hence the one we will be using) yielding the lowest error is K = 20."
   ]
  },
  {
   "cell_type": "markdown",
   "metadata": {},
   "source": [
    "Retraining the model using K = 20 and predicting on held-out (testing) data"
   ]
  },
  {
   "cell_type": "code",
   "execution_count": null,
   "metadata": {},
   "outputs": [],
   "source": [
    "\n",
    "performance_spec_knn <- nearest_neighbor(weight_func = \"rectangular\", neighbors = kmin) %>%\n",
    "  set_engine(\"kknn\") %>%\n",
    "  set_mode(\"regression\")\n",
    "\n",
    "performance_fit_knn <- workflow() %>%\n",
    "  add_recipe(performance_knn_recipe) %>%\n",
    "  add_model(performance_spec_knn) %>%\n",
    "  fit(data = user_training)\n",
    "\n",
    "knn_rmse <- performance_fit_knn %>%\n",
    "  predict(user_training) %>%\n",
    "  bind_cols(user_training) %>%\n",
    "  metrics(truth = PEG, estimate = .pred)%>%\n",
    "  filter(.metric == 'rmse') \n",
    "\n",
    "knn_rmse"
   ]
  },
  {
   "cell_type": "markdown",
   "metadata": {},
   "source": [
    "Table 2.3.1 The RMSE (of training data) of K-NN regression."
   ]
  },
  {
   "cell_type": "code",
   "execution_count": null,
   "metadata": {},
   "outputs": [],
   "source": [
    "knn_rmspe <- performance_fit_knn %>%\n",
    "  predict(user_testing) %>%\n",
    "  bind_cols(user_testing) %>%\n",
    "  metrics(truth = PEG, estimate = .pred)%>%\n",
    "  filter(.metric == 'rmse') \n",
    "\n",
    "knn_rmspe"
   ]
  },
  {
   "cell_type": "markdown",
   "metadata": {},
   "source": [
    "Table 2.3.2 The RMSPE (of testing data) of K-NN regression."
   ]
  },
  {
   "cell_type": "markdown",
   "metadata": {},
   "source": [
    "The RMSE (of training data) of K-NN regression is 0.227.\n",
    "\n",
    "The RMSPE (of testing data) of K-NN regression is 0.257."
   ]
  },
  {
   "cell_type": "markdown",
   "metadata": {},
   "source": [
    "#### 2.4 Visualization of Linear Regression"
   ]
  },
  {
   "cell_type": "code",
   "execution_count": null,
   "metadata": {},
   "outputs": [],
   "source": [
    "lm_predictions <- user_training %>%\n",
    "    ggplot(aes(x = STG, y = PEG)) +\n",
    "        geom_point() +\n",
    "        geom_smooth(method = \"lm\", se = FALSE) +\n",
    "        xlab(\"Degree of study time\") +\n",
    "        ylab(\"Degree of student performance\") +\n",
    "        ggtitle(\"Linear regression fitting model between STG and PEG\")+\n",
    "        theme(text = element_text(size = 14))\n",
    "lm_predictions"
   ]
  },
  {
   "cell_type": "markdown",
   "metadata": {},
   "source": [
    "Figure 2.4.1 Linear regression fitted over STG and PEG"
   ]
  },
  {
   "cell_type": "markdown",
   "metadata": {},
   "source": [
    "Figure 2.4.1 shows our linear regression model overlaid our testing data with STG on the x-axis and PEG on the y-axis. \n",
    "\n",
    "We can see that since the data itself is quite spread out, the plotted line of our linear regression cuts through the points, as linear regression usually does. We can see that the points are distributed relatively evenly over and under our fitted line. "
   ]
  },
  {
   "cell_type": "markdown",
   "metadata": {},
   "source": [
    "#### 2.5 Visualization of the K-NN Regression"
   ]
  },
  {
   "cell_type": "code",
   "execution_count": null,
   "metadata": {},
   "outputs": [],
   "source": [
    "knn_pred <- performance_fit_knn %>%\n",
    "  predict(user_training) %>%\n",
    "  bind_cols(user_training)\n",
    "knn_regression_plot <- ggplot(user_training, aes(x = STG, y = PEG)) +\n",
    "  geom_point(alpha = 0.4) +\n",
    "  geom_line(data = knn_pred, \n",
    "            mapping = aes(x = STG, y = .pred), \n",
    "            color = \"blue\") +\n",
    "  xlab(\"Degree of study time\") +\n",
    "  ylab(\"Degree of study performance\") +\n",
    "  ggtitle(\"K-NN regression fitting model between STG and PEG\") +\n",
    "  theme(text = element_text(size = 14))\n",
    "\n",
    "knn_regression_plot"
   ]
  },
  {
   "cell_type": "markdown",
   "metadata": {},
   "source": [
    "Figure 2.5.1 the K-NN regression between STG and PEG"
   ]
  },
  {
   "cell_type": "markdown",
   "metadata": {},
   "source": [
    "Figure 2.5.1 shows our K-NN regression model overlaid our testing data with STG on the x-axis and PEG on the y-axis. \n",
    "\n",
    "We can see that although the data itself is quite spread out, the plotted line of our K-NN regression tries to follow the data points by producing “wiggles”. \n",
    "This indicates that it is more flexible than our linear model, since it tries to follow most of the points instead of cutting through them.\n",
    "\n",
    "However, it is unclear if our model underfits or overfits the data since the testing data points themselves are spread out across the entire graph and there is a lot of randomness in our data."
   ]
  },
  {
   "cell_type": "markdown",
   "metadata": {},
   "source": [
    "#### 2.6 Comparing and Contrasting End Results"
   ]
  },
  {
   "cell_type": "markdown",
   "metadata": {},
   "source": [
    "Looking at the visualizations of both methods, we cannot evidently see which model is better. The linear regression model has a relatively even ratio of points above and under the fitted line, but our K-NN Regression is also flexible and follows the data points. Hence, we must rely on the calculated RMSPE to determine the better model.\n",
    "\n",
    "As seen in Sections 2.2 and 2.3, the the RMSE (of our training data) of linear regression is 0.249, and the RMSPE (of our testing data) of the linear regression is 0.281. The RMSE (of training data) of K-NN regression is 0.227, and the RMSPE (of testing data) of K-NN linear regression is 0.257. By comparing the RMSE of both methods, we can see that our K-NN regression model has a slightly lower RMSE on our training data. By comparing the RMSPE of both methods, we can see that again our K-NN regression model has a slightly lower RMSPE on our testing data. Therefore, our K-NN Regression Model is slightly more accurate.\n",
    "\n",
    "Due to the higher accuracy of our K-NN Regression, our final visualization of the best model is shown in Figure 2.5.1. "
   ]
  },
  {
   "cell_type": "markdown",
   "metadata": {},
   "source": [
    "### 3. Discussion"
   ]
  },
  {
   "cell_type": "markdown",
   "metadata": {},
   "source": [
    "Before performing the analysis, we had expected to find a positive, linear relationship between PEG and STG. As a student spends more time studying, they should perform better. As a result of our analysis, we have found the accuracy for our linear regression model to be 0.257, while the accuracy of our K-NN regression is 0.227 (where the range of degree is 1). \n",
    "\n",
    "Both of these types of regression have a prediction error percentage of about 40% (therefore our accuracy is about 60%), but as discussed in 2.6, our K-NN Regression model is slightly better than our linear regression due to its higher accuracy, which is consistent with our guess in Methods. Our model has relatively low accuracy. \n",
    "\n",
    "This was not quite what we had expected to find as the outcome of our analysis, since we initially expected to be able to observe a clearer positive relationship between STG and PEG. However, this can still be reasoned with the fact that there was already not much of a strong relationship between STG and PEG as described in Section 1.8.  \n",
    "\n",
    "As mentioned in the Introduction, we had initially believed the accuracy of our K-NN regression to be about 80%. Since there are no missing observations in our data set, there may be several reasons causing this difference in estimated accuracy and the actual accuracy calculated. On one hand, this can be attributed to the fact that exam performance could be affected by other external factors such as health condition, student IQ, stress levels, learning ability, etc. that were not in the data set. On the other hand, we can also say that our data set may not be big enough to directly draw a relationship between just study time and exam performance. \n",
    "\n",
    "It would be best to seek out another form of prediction that can predict using multiple factors (which would be outside the scope of what we have learned thus far in our course), or find a larger data set with more observations.\n",
    "\n",
    "In conclusion, our findings will somewhat help students assess how well they are performing in comparison to the time they are spending studying. As you spend more time studying, you may perform better, but other external factors can also come into play and affect your final results. Since it is final season, it is important to remember that although studying is extremely important, it is also crucial to take care of other things such as your physical and mental health. \n",
    "\n",
    "This study can also be beneficial to find the best study methods and learn how to study more efficiently. Some future questions to consider:"
   ]
  },
  {
   "cell_type": "markdown",
   "metadata": {},
   "source": [
    "* How much time should a student be spending studying to improve exam performance?\n",
    "* How do other factors (such as repetition, knowledge level, etc.) contribute to exam performance?\n",
    "* Can a similar approach be used in the industry to predict workers' performance based on their working time? How?"
   ]
  },
  {
   "cell_type": "markdown",
   "metadata": {},
   "source": [
    "### 4. References"
   ]
  },
  {
   "cell_type": "markdown",
   "metadata": {},
   "source": [
    "Colak, I., Sagiroglu, S., & Kahraman, H. T. (2008, December). A user modeling approach to web based adaptive educational hypermedia systems. In 2008 Seventh International Conference on Machine Learning and Applications (pp. 694-699). IEEE."
   ]
  },
  {
   "cell_type": "markdown",
   "metadata": {},
   "source": [
    "H. T. Kahraman, Sagiroglu, S., Colak, I., Developing intuitive knowledge classifier and modeling of users' domain dependent data in web, Knowledge Based Systems, vol. 37, pp. 283-295, 2013."
   ]
  },
  {
   "cell_type": "markdown",
   "metadata": {},
   "source": [
    "Kahraman, H. T. (2009). Designing and Application of Web-Based Adaptive Intelligent Education System. Gazi University Ph. D. Thesis, Turkey, 1-156."
   ]
  },
  {
   "cell_type": "markdown",
   "metadata": {},
   "source": [
    "Tsiriga, V., & Virvou, M. (2004). A framework for the initialization of student models in web-based intelligent tutoring systems. User Modeling and User-Adapted Interaction, 14(4), 289-316."
   ]
  },
  {
   "cell_type": "markdown",
   "metadata": {},
   "source": [
    "UCI Machine Learning Repository: User Knowledge Modeling Data Set. (2009, October). Machine Learning Repository. Retrieved Novermber 6, 2021, from https://archive.ics.uci.edu/ml/datasets/User+Knowledge+Modeling "
   ]
  }
 ],
 "metadata": {
  "kernelspec": {
   "display_name": "R",
   "language": "R",
   "name": "ir"
  },
  "language_info": {
   "codemirror_mode": "r",
   "file_extension": ".r",
   "mimetype": "text/x-r-source",
   "name": "R",
   "pygments_lexer": "r",
   "version": "4.1.2"
  }
 },
 "nbformat": 4,
 "nbformat_minor": 4
}
